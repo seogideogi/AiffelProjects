{
 "cells": [
  {
   "cell_type": "markdown",
   "id": "934af84e",
   "metadata": {},
   "source": [
    "# 데이터 불러오기 + Resize 하기"
   ]
  },
  {
   "cell_type": "code",
   "execution_count": null,
   "id": "c50b03e1",
   "metadata": {},
   "outputs": [],
   "source": [
    "# 이미지 데이터 합하기 - data * , data/test/*  img_rename.sh\n",
    "'''\n",
    "#!/bin/bash\n",
    "\n",
    "# rock 디렉토리의 마지막 이미지 파일명을 찾습니다.\n",
    "last_num=$(ls ./rock/*.jpg 2>/dev/null | sed 's/[^0-9]*//' | sort -n | tail -n 1)\n",
    "\n",
    "# 마지막 숫자 뒤에 1을 추가하여 시작 번호를 정의합니다.\n",
    "if [ -z \"$last_num\" ]; then\n",
    "    next_num=1\n",
    "else\n",
    "    next_num=$((last_num + 1))\n",
    "fi\n",
    "\n",
    "# from_rock 디렉토리의 이미지 파일들을 순회합니다.\n",
    "for img in /aiffel/aiffel/from/rock/*.jpg; do\n",
    "    if [ -e \"$img\" ]; then\n",
    "        # 파일명을 new_name으로 지정하고 넘버링합니다.\n",
    "        new_name=$(printf \"rock/%d.jpg\" \"$next_num\")\n",
    "        \n",
    "        # 파일을 커맨드로 복사합니다.\n",
    "        cp \"$img\" \"$new_name\"\n",
    "        \n",
    "        # 다음 번호로 증가\n",
    "        next_num=$((next_num + 1))\n",
    "    fi\n",
    "done\n",
    "\n",
    "\n",
    "\n",
    "# paper 디렉토리의 마지막 이미지 파일명을 찾습니다.\n",
    "last_num=$(ls ./paper/*.jpg 2>/dev/null | sed 's/[^0-9]*//' | sort -n | tail -n 1)\n",
    "\n",
    "# 마지막 숫자 뒤에 1을 추가하여 시작 번호를 정의합니다.\n",
    "if [ -z \"$last_num\" ]; then\n",
    "    next_num=1\n",
    "else\n",
    "    next_num=$((last_num + 1))\n",
    "fi\n",
    "\n",
    "# from_paper 디렉토리의 이미지 파일들을 순회합니다.\n",
    "for img in /aiffel/aiffel/from/paper/*.jpg; do\n",
    "    if [ -e \"$img\" ]; then\n",
    "        # 파일명을 new_name으로 지정하고 넘버링합니다.\n",
    "        new_name=$(printf \"paper/%d.jpg\" \"$next_num\")\n",
    "        \n",
    "        # 파일을 커맨드로 복사합니다.\n",
    "        cp \"$img\" \"$new_name\"\n",
    "        \n",
    "        # 다음 번호로 증가\n",
    "        next_num=$((next_num + 1))\n",
    "    fi\n",
    "done\n",
    "\n",
    "\n",
    "\n",
    "# scissor 디렉토리의 마지막 이미지 파일명을 찾습니다.\n",
    "last_num=$(ls ./scissor/*.jpg 2>/dev/null | sed 's/[^0-9]*//' | sort -n | tail -n 1)\n",
    "\n",
    "# 마지막 숫자 뒤에 1을 추가하여 시작 번호를 정의합니다.\n",
    "if [ -z \"$last_num\" ]; then\n",
    "    next_num=1\n",
    "else\n",
    "    next_num=$((last_num + 1))\n",
    "fi\n",
    "\n",
    "# from_scissor 디렉토리의 이미지 파일들을 순회합니다.\n",
    "for img in /aiffel/aiffel/from/scissor/*.jpg; do\n",
    "    if [ -e \"$img\" ]; then\n",
    "        # 파일명을 new_name으로 지정하고 넘버링합니다.\n",
    "        new_name=$(printf \"scissor/%d.jpg\" \"$next_num\")\n",
    "        \n",
    "        # 파일을 커맨드로 복사합니다.\n",
    "        cp \"$img\" \"$new_name\"\n",
    "        \n",
    "        # 다음 번호로 증가\n",
    "        next_num=$((next_num + 1))\n",
    "    fi\n",
    "done\n",
    "'''"
   ]
  },
  {
   "cell_type": "code",
   "execution_count": 84,
   "id": "fc695ea2",
   "metadata": {},
   "outputs": [
    {
     "name": "stdout",
     "output_type": "stream",
     "text": [
      "PIL 라이브러리 import 완료!\n"
     ]
    }
   ],
   "source": [
    "from PIL import Image \n",
    "import glob\n",
    "import os\n",
    "\n",
    "print(\"PIL 라이브러리 import 완료!\")"
   ]
  },
  {
   "cell_type": "code",
   "execution_count": 85,
   "id": "7edf7f45",
   "metadata": {},
   "outputs": [
    {
     "name": "stdout",
     "output_type": "stream",
     "text": [
      "310  images to be resized.\n",
      "310  images resized.\n",
      "가위 이미지 resize 완료!\n"
     ]
    }
   ],
   "source": [
    "def resize_images(img_path):\n",
    "\timages=glob.glob(img_path + \"/*.jpg\")  \n",
    "    \n",
    "\tprint(len(images), \" images to be resized.\")\n",
    "\n",
    "    # 파일마다 모두 28x28 사이즈로 바꾸어 저장합니다.\n",
    "\ttarget_size=(28,28)\n",
    "\tfor img in images:\n",
    "\t\told_img=Image.open(img)\n",
    "\t\tnew_img=old_img.resize(target_size,Image.ANTIALIAS)\n",
    "\t\tnew_img.save(img, \"JPEG\")\n",
    "    \n",
    "\tprint(len(images), \" images resized.\")\n",
    "# end of def resize_images\n",
    "\n",
    "# 가위 이미지가 저장된 디렉토리 아래의 모든 jpg 파일을 읽어들여서\n",
    "image_dir_path = os.getenv(\"HOME\") + \"/aiffel/rock_scissor_paper/scissor\"\n",
    "resize_images(image_dir_path)\n",
    "\n",
    "print(\"가위 이미지 resize 완료!\")"
   ]
  },
  {
   "cell_type": "code",
   "execution_count": 86,
   "id": "f1ca0cb3",
   "metadata": {},
   "outputs": [
    {
     "name": "stdout",
     "output_type": "stream",
     "text": [
      "300  images to be resized.\n",
      "300  images resized.\n",
      "보자기 이미지 resize 완료!\n"
     ]
    }
   ],
   "source": [
    "# 보자기 이미지가 저장된 디렉토리 아래의 모든 jpg 파일을 읽어들여서\n",
    "image_dir_path = os.getenv(\"HOME\") + \"/aiffel/rock_scissor_paper/paper\"\n",
    "resize_images(image_dir_path)\n",
    "\n",
    "print(\"보자기 이미지 resize 완료!\")"
   ]
  },
  {
   "cell_type": "code",
   "execution_count": 87,
   "id": "8d778b3b",
   "metadata": {},
   "outputs": [
    {
     "name": "stdout",
     "output_type": "stream",
     "text": [
      "211  images to be resized.\n",
      "211  images resized.\n",
      "주먹 이미지 resize 완료!\n"
     ]
    }
   ],
   "source": [
    "# 바위 이미지가 저장된 디렉토리 아래의 모든 jpg 파일을 읽어들여서\n",
    "image_dir_path = os.getenv(\"HOME\") + \"/aiffel/rock_scissor_paper/rock\"\n",
    "resize_images(image_dir_path)\n",
    "\n",
    "print(\"주먹 이미지 resize 완료!\")"
   ]
  },
  {
   "cell_type": "code",
   "execution_count": 88,
   "id": "7275ca7e",
   "metadata": {},
   "outputs": [
    {
     "name": "stdout",
     "output_type": "stream",
     "text": [
      "학습데이터(x_train)의 이미지 개수는 821 입니다.\n",
      "x_train shape: (821, 28, 28, 3)\n",
      "y_train shape: (821,)\n"
     ]
    }
   ],
   "source": [
    "## 데이터 로드 함수 만들기\n",
    "import numpy as np\n",
    "from sklearn.model_selection import train_test_split\n",
    "\n",
    "\n",
    "def load_data(img_path, number_of_data=821):  # 가위바위보 이미지 개수 총합에 주의하세요.\n",
    "    # 가위 : 0, 바위 : 1, 보 : 2\n",
    "    img_size=28\n",
    "    color=3\n",
    "    \n",
    "    #이미지 데이터와 라벨(가위 : 0, 바위 : 1, 보 : 2) 데이터를 담을 행렬(matrix) 영역을 생성합니다.\n",
    "    imgs=np.zeros(number_of_data*img_size*img_size*color,dtype=np.int32).reshape(number_of_data,img_size,img_size,color)\n",
    "    labels=np.zeros(number_of_data,dtype=np.int32)\n",
    "\n",
    "    idx=0\n",
    "    for file in glob.iglob(img_path+'/scissor/*.jpg'):\n",
    "        img = np.array(Image.open(file),dtype=np.int32)\n",
    "        imgs[idx,:,:,:]=img    # 데이터 영역에 이미지 행렬을 복사\n",
    "        labels[idx]=0   # 가위 : 0\n",
    "        idx=idx+1\n",
    "\n",
    "    for file in glob.iglob(img_path+'/rock/*.jpg'):\n",
    "        img = np.array(Image.open(file),dtype=np.int32)\n",
    "        imgs[idx,:,:,:]=img    # 데이터 영역에 이미지 행렬을 복사\n",
    "        labels[idx]=1   # 바위 : 1\n",
    "        idx=idx+1  \n",
    "    \n",
    "    for file in glob.iglob(img_path+'/paper/*.jpg'):\n",
    "        img = np.array(Image.open(file),dtype=np.int32)\n",
    "        imgs[idx,:,:,:]=img    # 데이터 영역에 이미지 행렬을 복사\n",
    "        labels[idx]=2   # 보 : 2\n",
    "        idx=idx+1\n",
    "        \n",
    "    print(\"학습데이터(x_train)의 이미지 개수는\", idx,\"입니다.\")\n",
    "    return imgs, labels\n",
    "\n",
    "image_dir_path = os.getenv(\"HOME\") + \"/aiffel/rock_scissor_paper\"\n",
    "x_train, y_train = load_data(image_dir_path)\n",
    "\n",
    "\n",
    "# x_train, y_train, x_test, y_test = train_test_split(data, label, test_size=0.2, random_state=0)\n",
    "\n",
    "x_train_norm = x_train / 255.0\n",
    "\n",
    "\n",
    "print(\"x_train shape: {}\".format(x_train.shape))\n",
    "print(\"y_train shape: {}\".format(y_train.shape))"
   ]
  },
  {
   "cell_type": "code",
   "execution_count": 89,
   "id": "093ff713",
   "metadata": {},
   "outputs": [
    {
     "name": "stdout",
     "output_type": "stream",
     "text": [
      "라벨:  0\n"
     ]
    },
    {
     "data": {
      "image/png": "[encoded data removed]",
      "text/plain": [
       "<Figure size 432x288 with 1 Axes>"
      ]
     },
     "metadata": {
      "needs_background": "light"
     },
     "output_type": "display_data"
    }
   ],
   "source": [
    "import matplotlib.pyplot as plt\n",
    "\n",
    "plt.imshow(x_train[0])\n",
    "print('라벨: ', y_train[0])"
   ]
  },
  {
   "cell_type": "markdown",
   "id": "4e82122e",
   "metadata": {},
   "source": [
    "# 딥러닝 네트워크 설계하기"
   ]
  },
  {
   "cell_type": "code",
   "execution_count": 103,
   "id": "1301e150",
   "metadata": {},
   "outputs": [],
   "source": [
    "# z-score 정규화 추가\n",
    "# 채널 별 평균과 표준 편차 계산\n",
    "means = np.mean(x_train_norm, axis=(0, 1, 2), keepdims=True)\n",
    "stds = np.std(x_train_norm, axis=(0, 1, 2), keepdims=True)\n",
    "\n",
    "# Z-score 정규화 수행\n",
    "x_train_normalized = (x_train_norm - means) / stds"
   ]
  },
  {
   "cell_type": "code",
   "execution_count": 107,
   "id": "ebcc7605",
   "metadata": {},
   "outputs": [
    {
     "name": "stdout",
     "output_type": "stream",
     "text": [
      "Model에 추가된 Layer 개수:  7\n",
      "Model: \"sequential_18\"\n",
      "_________________________________________________________________\n",
      "Layer (type)                 Output Shape              Param #   \n",
      "=================================================================\n",
      "conv2d_36 (Conv2D)           (None, 26, 26, 32)        896       \n",
      "_________________________________________________________________\n",
      "max_pooling2d_36 (MaxPooling (None, 13, 13, 32)        0         \n",
      "_________________________________________________________________\n",
      "conv2d_37 (Conv2D)           (None, 11, 11, 64)        18496     \n",
      "_________________________________________________________________\n",
      "max_pooling2d_37 (MaxPooling (None, 5, 5, 64)          0         \n",
      "_________________________________________________________________\n",
      "flatten_18 (Flatten)         (None, 1600)              0         \n",
      "_________________________________________________________________\n",
      "dense_36 (Dense)             (None, 64)                102464    \n",
      "_________________________________________________________________\n",
      "dense_37 (Dense)             (None, 3)                 195       \n",
      "=================================================================\n",
      "Total params: 122,051\n",
      "Trainable params: 122,051\n",
      "Non-trainable params: 0\n",
      "_________________________________________________________________\n"
     ]
    }
   ],
   "source": [
    "import tensorflow as tf\n",
    "from tensorflow import keras\n",
    "import numpy as np\n",
    "\n",
    "n_channel_1=32\n",
    "n_channel_2=64\n",
    "n_dense=64\n",
    "n_train_epoch=10\n",
    "\n",
    "model=keras.models.Sequential()\n",
    "model.add(keras.layers.Conv2D(n_channel_1, (3,3), activation='relu', input_shape=(28,28,3)))\n",
    "model.add(keras.layers.MaxPool2D(2,2))\n",
    "model.add(keras.layers.Conv2D(n_channel_2, (3,3), activation='relu'))\n",
    "model.add(keras.layers.MaxPooling2D((2,2)))\n",
    "model.add(keras.layers.Flatten())\n",
    "model.add(keras.layers.Dense(n_dense, activation='relu'))\n",
    "model.add(keras.layers.Dense(3, activation='softmax'))\n",
    "print('Model에 추가된 Layer 개수: ', len(model.layers))\n",
    "\n",
    "model.summary()"
   ]
  },
  {
   "cell_type": "markdown",
   "id": "564105f3",
   "metadata": {},
   "source": [
    "# 딥러닝 네트워크 학습시키기"
   ]
  },
  {
   "cell_type": "code",
   "execution_count": 108,
   "id": "59e620db",
   "metadata": {},
   "outputs": [
    {
     "name": "stdout",
     "output_type": "stream",
     "text": [
      "Epoch 1/10\n",
      "26/26 [==============================] - 2s 43ms/step - loss: 0.8437 - accuracy: 0.5895\n",
      "Epoch 2/10\n",
      "26/26 [==============================] - 1s 40ms/step - loss: 0.4376 - accuracy: 0.8526\n",
      "Epoch 3/10\n",
      "26/26 [==============================] - 1s 40ms/step - loss: 0.2394 - accuracy: 0.9354\n",
      "Epoch 4/10\n",
      "26/26 [==============================] - 1s 42ms/step - loss: 0.1219 - accuracy: 0.9732\n",
      "Epoch 5/10\n",
      "26/26 [==============================] - 1s 45ms/step - loss: 0.0683 - accuracy: 0.9890\n",
      "Epoch 6/10\n",
      "26/26 [==============================] - 1s 42ms/step - loss: 0.0399 - accuracy: 0.9927\n",
      "Epoch 7/10\n",
      "26/26 [==============================] - 1s 42ms/step - loss: 0.0314 - accuracy: 0.9963\n",
      "Epoch 8/10\n",
      "26/26 [==============================] - 1s 41ms/step - loss: 0.0158 - accuracy: 0.9976\n",
      "Epoch 9/10\n",
      "26/26 [==============================] - 1s 42ms/step - loss: 0.0090 - accuracy: 1.0000\n",
      "Epoch 10/10\n",
      "26/26 [==============================] - 1s 42ms/step - loss: 0.0076 - accuracy: 1.0000\n"
     ]
    },
    {
     "data": {
      "text/plain": [
       "<keras.callbacks.History at 0x7e6af3f7f4f0>"
      ]
     },
     "execution_count": 108,
     "metadata": {},
     "output_type": "execute_result"
    }
   ],
   "source": [
    "model.compile(optimizer='adam',\n",
    "             loss='sparse_categorical_crossentropy',\n",
    "             metrics=['accuracy'])\n",
    "\n",
    "# 모델 훈련\n",
    "#model.fit(x_train, y_train, epochs=n_train_epoch)\n",
    "model.fit(x_train_normalized, y_train, epochs=n_train_epoch)\n"
   ]
  },
  {
   "cell_type": "markdown",
   "id": "7b91154e",
   "metadata": {},
   "source": [
    "# 얼마나 잘 만들었는지 확인하기(테스트)\n",
    "\n",
    "테스트용 데이터인 x_test, y_test를 만들어 봅시다. 노승호 그루의 가위바위보 이미지 사용"
   ]
  },
  {
   "cell_type": "code",
   "execution_count": 98,
   "id": "a3a6bd31",
   "metadata": {},
   "outputs": [
    {
     "name": "stdout",
     "output_type": "stream",
     "text": [
      "100  images to be resized.\n",
      "100  images resized.\n",
      "가위 이미지 resize 완료!\n",
      "100  images to be resized.\n",
      "100  images resized.\n",
      "보자기 이미지 resize 완료!\n",
      "100  images to be resized.\n",
      "100  images resized.\n",
      "주먹 이미지 resize 완료!\n"
     ]
    }
   ],
   "source": [
    "# 가위 이미지가 저장된 디렉토리 아래의 모든 jpg 파일을 읽어들여서\n",
    "image_dir_path = os.getenv(\"HOME\") + \"/aiffel/rock_scissor_paper/test/scissor\"\n",
    "resize_images(image_dir_path)\n",
    "\n",
    "print(\"가위 이미지 resize 완료!\")\n",
    "\n",
    "\n",
    "# 보자기 이미지가 저장된 디렉토리 아래의 모든 jpg 파일을 읽어들여서\n",
    "image_dir_path = os.getenv(\"HOME\") + \"/aiffel/rock_scissor_paper/test/paper\"\n",
    "resize_images(image_dir_path)\n",
    "\n",
    "print(\"보자기 이미지 resize 완료!\")\n",
    "\n",
    "\n",
    "# 바위 이미지가 저장된 디렉토리 아래의 모든 jpg 파일을 읽어들여서\n",
    "image_dir_path = os.getenv(\"HOME\") + \"/aiffel/rock_scissor_paper/test/rock\"\n",
    "resize_images(image_dir_path)\n",
    "\n",
    "print(\"주먹 이미지 resize 완료!\")"
   ]
  },
  {
   "cell_type": "code",
   "execution_count": 100,
   "id": "7c3e23fd",
   "metadata": {},
   "outputs": [
    {
     "name": "stdout",
     "output_type": "stream",
     "text": [
      "학습데이터(x_train)의 이미지 개수는 300 입니다.\n",
      "x_test shape: (300, 28, 28, 3)\n",
      "y_test shape: (300,)\n"
     ]
    }
   ],
   "source": [
    "# x_test, y_test를 만드는 방법은 x_train, y_train을 만드는 방법과 아주 유사합니다.\n",
    "## 데이터 로드 함수 만들기\n",
    "import numpy as np\n",
    "\n",
    "\n",
    "def load_test_data(img_path, number_of_data=300):  # 가위바위보 이미지 개수 총합에 주의하세요.\n",
    "    # 가위 : 0, 바위 : 1, 보 : 2\n",
    "    img_size=28\n",
    "    color=3\n",
    "    #이미지 데이터와 라벨(가위 : 0, 바위 : 1, 보 : 2) 데이터를 담을 행렬(matrix) 영역을 생성합니다.\n",
    "    imgs=np.zeros(number_of_data*img_size*img_size*color,dtype=np.int32).reshape(number_of_data,img_size,img_size,color)\n",
    "    labels=np.zeros(number_of_data,dtype=np.int32)\n",
    "\n",
    "    idx=0\n",
    "    for file in glob.iglob(img_path+'/test/scissor/*.jpg'):\n",
    "        img = np.array(Image.open(file),dtype=np.int32)\n",
    "        imgs[idx,:,:,:]=img    # 데이터 영역에 이미지 행렬을 복사\n",
    "        labels[idx]=0   # 가위 : 0\n",
    "        idx=idx+1\n",
    "\n",
    "    for file in glob.iglob(img_path+'/test/rock/*.jpg'):\n",
    "        img = np.array(Image.open(file),dtype=np.int32)\n",
    "        imgs[idx,:,:,:]=img    # 데이터 영역에 이미지 행렬을 복사\n",
    "        labels[idx]=1   # 바위 : 1\n",
    "        idx=idx+1  \n",
    "    \n",
    "    for file in glob.iglob(img_path+'/test/paper/*.jpg'):\n",
    "        img = np.array(Image.open(file),dtype=np.int32)\n",
    "        imgs[idx,:,:,:]=img    # 데이터 영역에 이미지 행렬을 복사\n",
    "        labels[idx]=2   # 보 : 2\n",
    "        idx=idx+1\n",
    "        \n",
    "    print(\"학습데이터(x_train)의 이미지 개수는\", idx,\"입니다.\")\n",
    "    return imgs, labels\n",
    "\n",
    "image_dir_path = os.getenv(\"HOME\") + \"/aiffel/rock_scissor_paper\"\n",
    "x_test, y_test = load_test_data(image_dir_path)\n",
    "\n",
    "\n",
    "x_test_norm = x_test / 255.0\n",
    "\n",
    "\n",
    "print(\"x_test shape: {}\".format(x_test.shape))\n",
    "print(\"y_test shape: {}\".format(y_test.shape))"
   ]
  },
  {
   "cell_type": "markdown",
   "id": "47df6bee",
   "metadata": {},
   "source": [
    "accuracy 측정"
   ]
  },
  {
   "cell_type": "code",
   "execution_count": 109,
   "id": "65553233",
   "metadata": {},
   "outputs": [
    {
     "name": "stdout",
     "output_type": "stream",
     "text": [
      "10/10 - 0s - loss: 451.3392 - accuracy: 0.3333\n",
      "test_loss: 451.33917236328125 \n",
      "test_accuracy: 0.3333333432674408\n"
     ]
    }
   ],
   "source": [
    "#test_loss, test_accuracy = model.evaluate(x_test_norm, y_test, verbose=2)\n",
    "test_loss, test_accuracy = model.evaluate(x_test, y_test, verbose=2)\n",
    "\n",
    "print(\"test_loss: {} \".format(test_loss))\n",
    "print(\"test_accuracy: {}\".format(test_accuracy))"
   ]
  },
  {
   "cell_type": "code",
   "execution_count": 79,
   "id": "c20907f6",
   "metadata": {},
   "outputs": [],
   "source": [
    "# n_channel_1=32\n",
    "# n_channel_2=64\n",
    "# n_dense=64\n",
    "# n_train_epoch=30\n",
    "\n",
    "# 10/10 - 0s - loss: 17.4148 - accuracy: 0.2267\n",
    "# test_loss: 17.414796829223633 \n",
    "# test_accuracy: 0.2266666740179062\n",
    "\n",
    "\n",
    "\n",
    "\n",
    "\n",
    "# n_channel_1=32\n",
    "# n_channel_2=64\n",
    "# n_dense=64\n",
    "# n_train_epoch=20\n",
    "\n",
    "# 10/10 - 0s - loss: 16.3186 - accuracy: 0.3333\n",
    "# test_loss: 16.318634033203125 \n",
    "# test_accuracy: 0.3333333432674408\n",
    "\n",
    "\n",
    "\n",
    "\n",
    "\n",
    "# n_channel_1=32\n",
    "# n_channel_2=64\n",
    "# n_dense=64\n",
    "# n_train_epoch=15\n",
    "\n",
    "# 10/10 - 0s - loss: 6.4249 - accuracy: 0.3800\n",
    "# test_loss: 6.424914360046387 \n",
    "# test_accuracy: 0.3799999952316284\n",
    "\n",
    "\n",
    "\n",
    "\n",
    "\n",
    "# n_channel_1=32\n",
    "# n_channel_2=64\n",
    "# n_dense=64\n",
    "# n_train_epoch=10\n",
    "\n",
    "# 10/10 - 0s - loss: 8.9843 - accuracy: 0.2633\n",
    "# test_loss: 8.984334945678711 \n",
    "# test_accuracy: 0.2633333206176758\n",
    "\n",
    "\n",
    "\n",
    "\n",
    "\n",
    "# n_channel_1=16\n",
    "# n_channel_2=32\n",
    "# n_dense=32\n",
    "# n_train_epoch=10\n",
    "\n",
    "# 10/10 - 0s - loss: 9.0721 - accuracy: 0.2633\n",
    "# test_loss: 9.072083473205566 \n",
    "# test_accuracy: 0.2633333206176758\n",
    "\n",
    "#### 다시 함\n",
    "# n_channel_1=32\n",
    "# n_channel_2=64\n",
    "# n_dense=64\n",
    "# n_train_epoch=20\n",
    "\n",
    "# 10/10 - 0s - loss: 4.3652 - accuracy: 0.5300\n",
    "# test_loss: 4.365242004394531 \n",
    "# test_accuracy: 0.5299999713897705\n",
    "\n",
    "\n",
    "\n",
    "# n_channel_1=64\n",
    "# n_channel_2=128\n",
    "# n_dense=128\n",
    "# n_train_epoch=20\n",
    "\n",
    "\n",
    "# 10/10 - 0s - loss: 4.1717 - accuracy: 0.5367\n",
    "# test_loss: 4.171741008758545 \n",
    "# test_accuracy: 0.5366666913032532\n",
    "\n",
    "\n",
    "\n",
    "# -------------------- zscore 정규화 추가\n",
    "# n_channel_1=64\n",
    "# n_channel_2=128\n",
    "# n_dense=128\n",
    "# n_train_epoch=20\n",
    "\n",
    "# 10/10 - 0s - loss: 568.6640 - accuracy: 0.4633\n",
    "# test_loss: 568.6640014648438 \n",
    "# test_accuracy: 0.4633333384990692\n",
    "    \n",
    "    \n",
    "    \n",
    "# n_channel_1=16\n",
    "# n_channel_2=32\n",
    "# n_dense=32\n",
    "# n_train_epoch=10\n",
    "    \n",
    "    \n",
    "# 10/10 - 0s - loss: 802.8016 - accuracy: 0.3333\n",
    "# test_loss: 802.8015747070312 \n",
    "# test_accuracy: 0.3333333432674408\n",
    "\n",
    "\n",
    "# n_channel_1=32\n",
    "# n_channel_2=64\n",
    "# n_dense=64\n",
    "# n_train_epoch=10\n",
    "\n",
    "\n",
    "# 10/10 - 0s - loss: 451.3392 - accuracy: 0.3333\n",
    "# test_loss: 451.33917236328125 \n",
    "# test_accuracy: 0.3333333432674408"
   ]
  },
  {
   "cell_type": "markdown",
   "id": "8e501e7f",
   "metadata": {},
   "source": [
    "n_channel_1=64\n",
    "\n",
    "n_channel_2=128\n",
    "\n",
    "n_dense=128\n",
    "\n",
    "n_train_epoch=20\n",
    "\n",
    "---------------------------------\n",
    "2가지 정규화 하지 않고, 위 파라미터일때 가장 좋은 결과 \n",
    "\n",
    "10/10 - 0s - loss: 4.1717 - accuracy: 0.5367\n",
    "\n",
    "test_loss: 4.171741008758545 \n",
    "\n",
    "test_accuracy: 0.5366666913032532\n"
   ]
  },
  {
   "cell_type": "code",
   "execution_count": null,
   "id": "f18b3659",
   "metadata": {},
   "outputs": [],
   "source": []
  }
 ],
 "metadata": {
  "kernelspec": {
   "display_name": "Python 3 (ipykernel)",
   "language": "python",
   "name": "python3"
  },
  "language_info": {
   "codemirror_mode": {
    "name": "ipython",
    "version": 3
   },
   "file_extension": ".py",
   "mimetype": "text/x-python",
   "name": "python",
   "nbconvert_exporter": "python",
   "pygments_lexer": "ipython3",
   "version": "3.9.7"
  }
 },
 "nbformat": 4,
 "nbformat_minor": 5
}
