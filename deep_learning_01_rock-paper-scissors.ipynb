{
 "cells": [
  {
   "cell_type": "markdown",
   "id": "b532c875",
   "metadata": {},
   "source": [
    "# 데이터 불러오기 + Resize 하기"
   ]
  },
  {
   "cell_type": "code",
   "execution_count": null,
   "id": "8e33e5c1",
   "metadata": {},
   "outputs": [],
   "source": [
    "# 이미지 데이터 합하기  img_rename.sh\n",
    "'''\n",
    "#!/bin/bash\n",
    "\n",
    "# rock 디렉토리의 마지막 이미지 파일명을 찾습니다.\n",
    "last_num=$(ls ./rock/*.jpg 2>/dev/null | sed 's/[^0-9]*//' | sort -n | tail -n 1)\n",
    "\n",
    "# 마지막 숫자 뒤에 1을 추가하여 시작 번호를 정의합니다.\n",
    "if [ -z \"$last_num\" ]; then\n",
    "    next_num=1\n",
    "else\n",
    "    next_num=$((last_num + 1))\n",
    "fi\n",
    "\n",
    "# from_rock 디렉토리의 이미지 파일들을 순회합니다.\n",
    "for img in /aiffel/aiffel/from/rock/*.jpg; do\n",
    "    if [ -e \"$img\" ]; then\n",
    "        # 파일명을 new_name으로 지정하고 넘버링합니다.\n",
    "        new_name=$(printf \"rock/%d.jpg\" \"$next_num\")\n",
    "        \n",
    "        # 파일을 커맨드로 복사합니다.\n",
    "        cp \"$img\" \"$new_name\"\n",
    "        \n",
    "        # 다음 번호로 증가\n",
    "        next_num=$((next_num + 1))\n",
    "    fi\n",
    "done\n",
    "\n",
    "\n",
    "\n",
    "# paper 디렉토리의 마지막 이미지 파일명을 찾습니다.\n",
    "last_num=$(ls ./paper/*.jpg 2>/dev/null | sed 's/[^0-9]*//' | sort -n | tail -n 1)\n",
    "\n",
    "# 마지막 숫자 뒤에 1을 추가하여 시작 번호를 정의합니다.\n",
    "if [ -z \"$last_num\" ]; then\n",
    "    next_num=1\n",
    "else\n",
    "    next_num=$((last_num + 1))\n",
    "fi\n",
    "\n",
    "# from_paper 디렉토리의 이미지 파일들을 순회합니다.\n",
    "for img in /aiffel/aiffel/from/paper/*.jpg; do\n",
    "    if [ -e \"$img\" ]; then\n",
    "        # 파일명을 new_name으로 지정하고 넘버링합니다.\n",
    "        new_name=$(printf \"paper/%d.jpg\" \"$next_num\")\n",
    "        \n",
    "        # 파일을 커맨드로 복사합니다.\n",
    "        cp \"$img\" \"$new_name\"\n",
    "        \n",
    "        # 다음 번호로 증가\n",
    "        next_num=$((next_num + 1))\n",
    "    fi\n",
    "done\n",
    "\n",
    "\n",
    "\n",
    "# scissor 디렉토리의 마지막 이미지 파일명을 찾습니다.\n",
    "last_num=$(ls ./scissor/*.jpg 2>/dev/null | sed 's/[^0-9]*//' | sort -n | tail -n 1)\n",
    "\n",
    "# 마지막 숫자 뒤에 1을 추가하여 시작 번호를 정의합니다.\n",
    "if [ -z \"$last_num\" ]; then\n",
    "    next_num=1\n",
    "else\n",
    "    next_num=$((last_num + 1))\n",
    "fi\n",
    "\n",
    "# from_scissor 디렉토리의 이미지 파일들을 순회합니다.\n",
    "for img in /aiffel/aiffel/from/scissor/*.jpg; do\n",
    "    if [ -e \"$img\" ]; then\n",
    "        # 파일명을 new_name으로 지정하고 넘버링합니다.\n",
    "        new_name=$(printf \"scissor/%d.jpg\" \"$next_num\")\n",
    "        \n",
    "        # 파일을 커맨드로 복사합니다.\n",
    "        cp \"$img\" \"$new_name\"\n",
    "        \n",
    "        # 다음 번호로 증가\n",
    "        next_num=$((next_num + 1))\n",
    "    fi\n",
    "done\n",
    "'''"
   ]
  },
  {
   "cell_type": "code",
   "execution_count": 5,
   "id": "9043f314",
   "metadata": {},
   "outputs": [
    {
     "name": "stdout",
     "output_type": "stream",
     "text": [
      "PIL 라이브러리 import 완료!\n"
     ]
    }
   ],
   "source": [
    "from PIL import Image \n",
    "import glob\n",
    "import os\n",
    "\n",
    "print(\"PIL 라이브러리 import 완료!\")"
   ]
  },
  {
   "cell_type": "code",
   "execution_count": 6,
   "id": "1e262958",
   "metadata": {},
   "outputs": [
    {
     "name": "stdout",
     "output_type": "stream",
     "text": [
      "310  images to be resized.\n",
      "310  images resized.\n",
      "가위 이미지 resize 완료!\n"
     ]
    }
   ],
   "source": [
    "def resize_images(img_path):\n",
    "\timages=glob.glob(img_path + \"/*.jpg\")  \n",
    "    \n",
    "\tprint(len(images), \" images to be resized.\")\n",
    "\n",
    "    # 파일마다 모두 28x28 사이즈로 바꾸어 저장합니다.\n",
    "\ttarget_size=(28,28)\n",
    "\tfor img in images:\n",
    "\t\told_img=Image.open(img)\n",
    "\t\tnew_img=old_img.resize(target_size,Image.ANTIALIAS)\n",
    "\t\tnew_img.save(img, \"JPEG\")\n",
    "    \n",
    "\tprint(len(images), \" images resized.\")\n",
    "# end of def resize_images\n",
    "\n",
    "# 가위 이미지가 저장된 디렉토리 아래의 모든 jpg 파일을 읽어들여서\n",
    "image_dir_path = os.getenv(\"HOME\") + \"/aiffel/rock_scissor_paper/scissor\"\n",
    "resize_images(image_dir_path)\n",
    "\n",
    "print(\"가위 이미지 resize 완료!\")"
   ]
  },
  {
   "cell_type": "code",
   "execution_count": 7,
   "id": "623de87c",
   "metadata": {},
   "outputs": [
    {
     "name": "stdout",
     "output_type": "stream",
     "text": [
      "300  images to be resized.\n",
      "300  images resized.\n",
      "보자기 이미지 resize 완료!\n"
     ]
    }
   ],
   "source": [
    "# 보자기 이미지가 저장된 디렉토리 아래의 모든 jpg 파일을 읽어들여서\n",
    "image_dir_path = os.getenv(\"HOME\") + \"/aiffel/rock_scissor_paper/paper\"\n",
    "resize_images(image_dir_path)\n",
    "\n",
    "print(\"보자기 이미지 resize 완료!\")"
   ]
  },
  {
   "cell_type": "code",
   "execution_count": 8,
   "id": "ca81a0da",
   "metadata": {},
   "outputs": [
    {
     "name": "stdout",
     "output_type": "stream",
     "text": [
      "211  images to be resized.\n",
      "211  images resized.\n",
      "주먹 이미지 resize 완료!\n"
     ]
    }
   ],
   "source": [
    "# 바위 이미지가 저장된 디렉토리 아래의 모든 jpg 파일을 읽어들여서\n",
    "image_dir_path = os.getenv(\"HOME\") + \"/aiffel/rock_scissor_paper/rock\"\n",
    "resize_images(image_dir_path)\n",
    "\n",
    "print(\"주먹 이미지 resize 완료!\")"
   ]
  },
  {
   "cell_type": "code",
   "execution_count": 34,
   "id": "7f48744e",
   "metadata": {},
   "outputs": [
    {
     "name": "stdout",
     "output_type": "stream",
     "text": [
      "학습데이터(x_train)의 이미지 개수는 821 입니다.\n",
      "x_train shape: (821, 28, 28, 3)\n",
      "y_train shape: (821,)\n"
     ]
    }
   ],
   "source": [
    "## 데이터 로드 함수 만들기\n",
    "import numpy as np\n",
    "from sklearn.model_selection import train_test_split\n",
    "\n",
    "\n",
    "def load_data(img_path, number_of_data=821):  # 가위바위보 이미지 개수 총합에 주의하세요.\n",
    "    # 가위 : 0, 바위 : 1, 보 : 2\n",
    "    img_size=28\n",
    "    color=3\n",
    "    \n",
    "    #이미지 데이터와 라벨(가위 : 0, 바위 : 1, 보 : 2) 데이터를 담을 행렬(matrix) 영역을 생성합니다.\n",
    "    imgs=np.zeros(number_of_data*img_size*img_size*color,dtype=np.int32).reshape(number_of_data,img_size,img_size,color)\n",
    "    labels=np.zeros(number_of_data,dtype=np.int32)\n",
    "\n",
    "    idx=0\n",
    "    for file in glob.iglob(img_path+'/scissor/*.jpg'):\n",
    "        img = np.array(Image.open(file),dtype=np.int32)\n",
    "        imgs[idx,:,:,:]=img    # 데이터 영역에 이미지 행렬을 복사\n",
    "        labels[idx]=0   # 가위 : 0\n",
    "        idx=idx+1\n",
    "\n",
    "    for file in glob.iglob(img_path+'/rock/*.jpg'):\n",
    "        img = np.array(Image.open(file),dtype=np.int32)\n",
    "        imgs[idx,:,:,:]=img    # 데이터 영역에 이미지 행렬을 복사\n",
    "        labels[idx]=1   # 바위 : 1\n",
    "        idx=idx+1  \n",
    "    \n",
    "    for file in glob.iglob(img_path+'/paper/*.jpg'):\n",
    "        img = np.array(Image.open(file),dtype=np.int32)\n",
    "        imgs[idx,:,:,:]=img    # 데이터 영역에 이미지 행렬을 복사\n",
    "        labels[idx]=2   # 보 : 2\n",
    "        idx=idx+1\n",
    "        \n",
    "    print(\"학습데이터(x_train)의 이미지 개수는\", idx,\"입니다.\")\n",
    "    return imgs, labels\n",
    "\n",
    "image_dir_path = os.getenv(\"HOME\") + \"/aiffel/rock_scissor_paper\"\n",
    "x_train, y_train = load_data(image_dir_path)\n",
    "\n",
    "\n",
    "# x_train, y_train, x_test, y_test = train_test_split(data, label, test_size=0.2, random_state=0)\n",
    "\n",
    "x_train_norm = x_train / 255.0\n",
    "\n",
    "\n",
    "print(\"x_train shape: {}\".format(x_train.shape))\n",
    "print(\"y_train shape: {}\".format(y_train.shape))"
   ]
  },
  {
   "cell_type": "code",
   "execution_count": 35,
   "id": "c451dba3",
   "metadata": {},
   "outputs": [
    {
     "name": "stdout",
     "output_type": "stream",
     "text": [
      "라벨:  0\n"
     ]
    },
    {
     "data": {
      "image/png": "[encoded data removed]",
      "text/plain": [
       "<Figure size 432x288 with 1 Axes>"
      ]
     },
     "metadata": {
      "needs_background": "light"
     },
     "output_type": "display_data"
    }
   ],
   "source": [
    "import matplotlib.pyplot as plt\n",
    "\n",
    "plt.imshow(x_train[0])\n",
    "print('라벨: ', y_train[0])"
   ]
  },
  {
   "cell_type": "markdown",
   "id": "ac8807af",
   "metadata": {},
   "source": [
    "# 딥러닝 네트워크 설계하기"
   ]
  },
  {
   "cell_type": "code",
   "execution_count": 80,
   "id": "da925398",
   "metadata": {},
   "outputs": [
    {
     "name": "stdout",
     "output_type": "stream",
     "text": [
      "Model에 추가된 Layer 개수:  7\n",
      "Model: \"sequential_14\"\n",
      "_________________________________________________________________\n",
      "Layer (type)                 Output Shape              Param #   \n",
      "=================================================================\n",
      "conv2d_28 (Conv2D)           (None, 26, 26, 64)        1792      \n",
      "_________________________________________________________________\n",
      "max_pooling2d_28 (MaxPooling (None, 13, 13, 64)        0         \n",
      "_________________________________________________________________\n",
      "conv2d_29 (Conv2D)           (None, 11, 11, 128)       73856     \n",
      "_________________________________________________________________\n",
      "max_pooling2d_29 (MaxPooling (None, 5, 5, 128)         0         \n",
      "_________________________________________________________________\n",
      "flatten_14 (Flatten)         (None, 3200)              0         \n",
      "_________________________________________________________________\n",
      "dense_28 (Dense)             (None, 128)               409728    \n",
      "_________________________________________________________________\n",
      "dense_29 (Dense)             (None, 3)                 387       \n",
      "=================================================================\n",
      "Total params: 485,763\n",
      "Trainable params: 485,763\n",
      "Non-trainable params: 0\n",
      "_________________________________________________________________\n"
     ]
    }
   ],
   "source": [
    "import tensorflow as tf\n",
    "from tensorflow import keras\n",
    "import numpy as np\n",
    "\n",
    "n_channel_1=64\n",
    "n_channel_2=128\n",
    "n_dense=128\n",
    "n_train_epoch=20\n",
    "\n",
    "model=keras.models.Sequential()\n",
    "model.add(keras.layers.Conv2D(n_channel_1, (3,3), activation='relu', input_shape=(28,28,3)))\n",
    "model.add(keras.layers.MaxPool2D(2,2))\n",
    "model.add(keras.layers.Conv2D(n_channel_2, (3,3), activation='relu'))\n",
    "model.add(keras.layers.MaxPooling2D((2,2)))\n",
    "model.add(keras.layers.Flatten())\n",
    "model.add(keras.layers.Dense(n_dense, activation='relu'))\n",
    "model.add(keras.layers.Dense(3, activation='softmax'))\n",
    "print('Model에 추가된 Layer 개수: ', len(model.layers))\n",
    "\n",
    "model.summary()"
   ]
  },
  {
   "cell_type": "markdown",
   "id": "2bb8e5e3",
   "metadata": {},
   "source": [
    "# 딥러닝 네트워크 학습시키기"
   ]
  },
  {
   "cell_type": "code",
   "execution_count": 81,
   "id": "8269416e",
   "metadata": {},
   "outputs": [
    {
     "name": "stdout",
     "output_type": "stream",
     "text": [
      "Epoch 1/20\n",
      "26/26 [==============================] - 3s 98ms/step - loss: 19.9607 - accuracy: 0.3983\n",
      "Epoch 2/20\n",
      "26/26 [==============================] - 3s 100ms/step - loss: 0.7254 - accuracy: 0.6370\n",
      "Epoch 3/20\n",
      "26/26 [==============================] - 2s 95ms/step - loss: 0.5387 - accuracy: 0.7661\n",
      "Epoch 4/20\n",
      "26/26 [==============================] - 3s 99ms/step - loss: 0.4032 - accuracy: 0.8429\n",
      "Epoch 5/20\n",
      "26/26 [==============================] - 3s 99ms/step - loss: 0.3172 - accuracy: 0.8599\n",
      "Epoch 6/20\n",
      "26/26 [==============================] - 3s 100ms/step - loss: 0.2861 - accuracy: 0.8965\n",
      "Epoch 7/20\n",
      "26/26 [==============================] - 3s 98ms/step - loss: 0.1665 - accuracy: 0.9415\n",
      "Epoch 8/20\n",
      "26/26 [==============================] - 3s 99ms/step - loss: 0.1132 - accuracy: 0.9695\n",
      "Epoch 9/20\n",
      "26/26 [==============================] - 3s 101ms/step - loss: 0.0856 - accuracy: 0.9805\n",
      "Epoch 10/20\n",
      "26/26 [==============================] - 3s 97ms/step - loss: 0.0618 - accuracy: 0.9878\n",
      "Epoch 11/20\n",
      "26/26 [==============================] - 3s 100ms/step - loss: 0.0486 - accuracy: 0.9854\n",
      "Epoch 12/20\n",
      "26/26 [==============================] - 3s 100ms/step - loss: 0.0511 - accuracy: 0.9805\n",
      "Epoch 13/20\n",
      "26/26 [==============================] - 3s 100ms/step - loss: 0.0503 - accuracy: 0.9866\n",
      "Epoch 14/20\n",
      "26/26 [==============================] - 3s 99ms/step - loss: 0.0264 - accuracy: 0.9988\n",
      "Epoch 15/20\n",
      "26/26 [==============================] - 3s 97ms/step - loss: 0.0185 - accuracy: 0.9988\n",
      "Epoch 16/20\n",
      "26/26 [==============================] - 3s 100ms/step - loss: 0.0147 - accuracy: 1.0000\n",
      "Epoch 17/20\n",
      "26/26 [==============================] - 3s 101ms/step - loss: 0.0106 - accuracy: 0.9988\n",
      "Epoch 18/20\n",
      "26/26 [==============================] - 3s 100ms/step - loss: 0.0105 - accuracy: 1.0000\n",
      "Epoch 19/20\n",
      "26/26 [==============================] - 3s 102ms/step - loss: 0.0070 - accuracy: 1.0000\n",
      "Epoch 20/20\n",
      "26/26 [==============================] - 3s 100ms/step - loss: 0.0057 - accuracy: 1.0000\n"
     ]
    },
    {
     "data": {
      "text/plain": [
       "<keras.callbacks.History at 0x7e6afa5263d0>"
      ]
     },
     "execution_count": 81,
     "metadata": {},
     "output_type": "execute_result"
    }
   ],
   "source": [
    "model.compile(optimizer='adam',\n",
    "             loss='sparse_categorical_crossentropy',\n",
    "             metrics=['accuracy'])\n",
    "\n",
    "# 모델 훈련\n",
    "model.fit(x_train, y_train, epochs=n_train_epoch)\n"
   ]
  },
  {
   "cell_type": "markdown",
   "id": "08ddc295",
   "metadata": {},
   "source": [
    "# 얼마나 잘 만들었는지 확인하기(테스트)\n",
    "\n",
    "테스트용 데이터인 x_test, y_test를 만들어 봅시다. 노승호 그루의 가위바위보 이미지 사용"
   ]
  },
  {
   "cell_type": "code",
   "execution_count": 51,
   "id": "28cad646",
   "metadata": {},
   "outputs": [
    {
     "name": "stdout",
     "output_type": "stream",
     "text": [
      "100  images to be resized.\n",
      "100  images resized.\n",
      "가위 이미지 resize 완료!\n",
      "100  images to be resized.\n",
      "100  images resized.\n",
      "보자기 이미지 resize 완료!\n",
      "100  images to be resized.\n",
      "100  images resized.\n",
      "주먹 이미지 resize 완료!\n"
     ]
    }
   ],
   "source": [
    "# 가위 이미지가 저장된 디렉토리 아래의 모든 jpg 파일을 읽어들여서\n",
    "image_dir_path = os.getenv(\"HOME\") + \"/aiffel/rock_scissor_paper/test/scissor\"\n",
    "resize_images(image_dir_path)\n",
    "\n",
    "print(\"가위 이미지 resize 완료!\")\n",
    "\n",
    "\n",
    "# 보자기 이미지가 저장된 디렉토리 아래의 모든 jpg 파일을 읽어들여서\n",
    "image_dir_path = os.getenv(\"HOME\") + \"/aiffel/rock_scissor_paper/test/paper\"\n",
    "resize_images(image_dir_path)\n",
    "\n",
    "print(\"보자기 이미지 resize 완료!\")\n",
    "\n",
    "\n",
    "# 바위 이미지가 저장된 디렉토리 아래의 모든 jpg 파일을 읽어들여서\n",
    "image_dir_path = os.getenv(\"HOME\") + \"/aiffel/rock_scissor_paper/test/rock\"\n",
    "resize_images(image_dir_path)\n",
    "\n",
    "print(\"주먹 이미지 resize 완료!\")"
   ]
  },
  {
   "cell_type": "code",
   "execution_count": 82,
   "id": "bd2936af",
   "metadata": {},
   "outputs": [
    {
     "name": "stdout",
     "output_type": "stream",
     "text": [
      "학습데이터(x_train)의 이미지 개수는 300 입니다.\n",
      "x_test shape: (300, 28, 28, 3)\n",
      "y_test shape: (300,)\n"
     ]
    }
   ],
   "source": [
    "# x_test, y_test를 만드는 방법은 x_train, y_train을 만드는 방법과 아주 유사합니다.\n",
    "## 데이터 로드 함수 만들기\n",
    "import numpy as np\n",
    "\n",
    "\n",
    "def load_test_data(img_path, number_of_data=300):  # 가위바위보 이미지 개수 총합에 주의하세요.\n",
    "    # 가위 : 0, 바위 : 1, 보 : 2\n",
    "    img_size=28\n",
    "    color=3\n",
    "    #이미지 데이터와 라벨(가위 : 0, 바위 : 1, 보 : 2) 데이터를 담을 행렬(matrix) 영역을 생성합니다.\n",
    "    imgs=np.zeros(number_of_data*img_size*img_size*color,dtype=np.int32).reshape(number_of_data,img_size,img_size,color)\n",
    "    labels=np.zeros(number_of_data,dtype=np.int32)\n",
    "\n",
    "    idx=0\n",
    "    for file in glob.iglob(img_path+'/test/scissor/*.jpg'):\n",
    "        img = np.array(Image.open(file),dtype=np.int32)\n",
    "        imgs[idx,:,:,:]=img    # 데이터 영역에 이미지 행렬을 복사\n",
    "        labels[idx]=0   # 가위 : 0\n",
    "        idx=idx+1\n",
    "\n",
    "    for file in glob.iglob(img_path+'/test/rock/*.jpg'):\n",
    "        img = np.array(Image.open(file),dtype=np.int32)\n",
    "        imgs[idx,:,:,:]=img    # 데이터 영역에 이미지 행렬을 복사\n",
    "        labels[idx]=1   # 바위 : 1\n",
    "        idx=idx+1  \n",
    "    \n",
    "    for file in glob.iglob(img_path+'/test/paper/*.jpg'):\n",
    "        img = np.array(Image.open(file),dtype=np.int32)\n",
    "        imgs[idx,:,:,:]=img    # 데이터 영역에 이미지 행렬을 복사\n",
    "        labels[idx]=2   # 보 : 2\n",
    "        idx=idx+1\n",
    "        \n",
    "    print(\"학습데이터(x_train)의 이미지 개수는\", idx,\"입니다.\")\n",
    "    return imgs, labels\n",
    "\n",
    "image_dir_path = os.getenv(\"HOME\") + \"/aiffel/rock_scissor_paper\"\n",
    "x_test, y_test = load_test_data(image_dir_path)\n",
    "\n",
    "\n",
    "x_test_norm = x_test / 255.0\n",
    "\n",
    "\n",
    "print(\"x_test shape: {}\".format(x_test.shape))\n",
    "print(\"y_test shape: {}\".format(y_test.shape))"
   ]
  },
  {
   "cell_type": "markdown",
   "id": "27937371",
   "metadata": {},
   "source": [
    "accuracy 측정"
   ]
  },
  {
   "cell_type": "code",
   "execution_count": 83,
   "id": "aaa523c4",
   "metadata": {},
   "outputs": [
    {
     "name": "stdout",
     "output_type": "stream",
     "text": [
      "10/10 - 0s - loss: 4.1717 - accuracy: 0.5367\n",
      "test_loss: 4.171741008758545 \n",
      "test_accuracy: 0.5366666913032532\n"
     ]
    }
   ],
   "source": [
    "test_loss, test_accuracy = model.evaluate(x_test, y_test, verbose=2)\n",
    "print(\"test_loss: {} \".format(test_loss))\n",
    "print(\"test_accuracy: {}\".format(test_accuracy))"
   ]
  },
  {
   "cell_type": "code",
   "execution_count": 79,
   "id": "506c1da9",
   "metadata": {},
   "outputs": [],
   "source": [
    "# n_channel_1=32\n",
    "# n_channel_2=64\n",
    "# n_dense=64\n",
    "# n_train_epoch=30\n",
    "\n",
    "# 10/10 - 0s - loss: 17.4148 - accuracy: 0.2267\n",
    "# test_loss: 17.414796829223633 \n",
    "# test_accuracy: 0.2266666740179062\n",
    "\n",
    "\n",
    "\n",
    "\n",
    "\n",
    "# n_channel_1=32\n",
    "# n_channel_2=64\n",
    "# n_dense=64\n",
    "# n_train_epoch=20\n",
    "\n",
    "# 10/10 - 0s - loss: 16.3186 - accuracy: 0.3333\n",
    "# test_loss: 16.318634033203125 \n",
    "# test_accuracy: 0.3333333432674408\n",
    "\n",
    "\n",
    "\n",
    "\n",
    "\n",
    "# n_channel_1=32\n",
    "# n_channel_2=64\n",
    "# n_dense=64\n",
    "# n_train_epoch=15\n",
    "\n",
    "# 10/10 - 0s - loss: 6.4249 - accuracy: 0.3800\n",
    "# test_loss: 6.424914360046387 \n",
    "# test_accuracy: 0.3799999952316284\n",
    "\n",
    "\n",
    "\n",
    "\n",
    "\n",
    "# n_channel_1=32\n",
    "# n_channel_2=64\n",
    "# n_dense=64\n",
    "# n_train_epoch=10\n",
    "\n",
    "# 10/10 - 0s - loss: 8.9843 - accuracy: 0.2633\n",
    "# test_loss: 8.984334945678711 \n",
    "# test_accuracy: 0.2633333206176758\n",
    "\n",
    "\n",
    "\n",
    "\n",
    "\n",
    "# n_channel_1=16\n",
    "# n_channel_2=32\n",
    "# n_dense=32\n",
    "# n_train_epoch=10\n",
    "\n",
    "# 10/10 - 0s - loss: 9.0721 - accuracy: 0.2633\n",
    "# test_loss: 9.072083473205566 \n",
    "# test_accuracy: 0.2633333206176758\n",
    "\n",
    "#### 다시 함\n",
    "# n_channel_1=32\n",
    "# n_channel_2=64\n",
    "# n_dense=64\n",
    "# n_train_epoch=20\n",
    "\n",
    "# 10/10 - 0s - loss: 4.3652 - accuracy: 0.5300\n",
    "# test_loss: 4.365242004394531 \n",
    "# test_accuracy: 0.5299999713897705\n",
    "\n",
    "\n",
    "\n",
    "# n_channel_1=64\n",
    "# n_channel_2=128\n",
    "# n_dense=128\n",
    "# n_train_epoch=20\n",
    "\n",
    "\n",
    "# 10/10 - 0s - loss: 4.1717 - accuracy: 0.5367\n",
    "# test_loss: 4.171741008758545 \n",
    "# test_accuracy: 0.5366666913032532"
   ]
  },
  {
   "cell_type": "markdown",
   "id": "83898e0a",
   "metadata": {},
   "source": [
    "n_channel_1=64\n",
    "\n",
    "n_channel_2=128\n",
    "\n",
    "n_dense=128\n",
    "\n",
    "n_train_epoch=20\n",
    "\n",
    "---------------------------------\n",
    "위 파라미터일때 가장 좋은 결과 \n",
    "\n",
    "10/10 - 0s - loss: 4.1717 - accuracy: 0.5367\n",
    "\n",
    "test_loss: 4.171741008758545 \n",
    "\n",
    "test_accuracy: 0.5366666913032532\n"
   ]
  }
 ],
 "metadata": {
  "kernelspec": {
   "display_name": "Python 3 (ipykernel)",
   "language": "python",
   "name": "python3"
  },
  "language_info": {
   "codemirror_mode": {
    "name": "ipython",
    "version": 3
   },
   "file_extension": ".py",
   "mimetype": "text/x-python",
   "name": "python",
   "nbconvert_exporter": "python",
   "pygments_lexer": "ipython3",
   "version": "3.9.7"
  }
 },
 "nbformat": 4,
 "nbformat_minor": 5
}
